{
 "cells": [
  {
   "cell_type": "code",
   "execution_count": 1,
   "id": "28746d2a",
   "metadata": {},
   "outputs": [],
   "source": [
    "import numpy as np\n",
    "import matplotlib.pyplot as plt\n",
    "from collections import OrderedDict\n",
    "from scipy.stats import sem, t\n",
    "from skopt import gp_minimize\n",
    "import optuna\n",
    "import random"
   ]
  },
  {
   "cell_type": "code",
   "execution_count": 2,
   "id": "c0eb55c2",
   "metadata": {},
   "outputs": [],
   "source": [
    "def get_city_coord_dict(filename):\n",
    "    '''Opens the file with cities and corresponding coordinates. Puts it in an ordered dictionary.\n",
    "    Input: file name with path.\n",
    "    Ouput: Ordered dictionary of cities with corresponding x and y coordinates in a numpy array.'''\n",
    "    city_coord_dict = {}\n",
    "\n",
    "    with open(filename, 'r') as file:\n",
    "        for line in file:\n",
    "            line = line.strip()\n",
    "            if line[0].isdigit():\n",
    "                split = line.split()\n",
    "\n",
    "                city_coord_dict[int(split[0])] = np.array([int(coord) for coord in line.split()[-2:]])\n",
    "\n",
    "    return OrderedDict(city_coord_dict)\n",
    "\n",
    "#Open initial file, store cities with coordinates\n",
    "filename = \"TSP-Configurations/a280.tsp.txt\"\n",
    "init_cities = get_city_coord_dict(filename)\n",
    "\n",
    "def get_distance(city_a, city_b):\n",
    "    '''Calculates distance between city a and city b.\n",
    "    Input: numpy arrays of city_a and city_b coordinates.\n",
    "    Output: Euclidean distance between the two cities (as a scalar)'''\n",
    "    return np.linalg.norm(city_a - city_b)\n",
    "\n",
    "def total_distance(cities):\n",
    "    '''Calculates the total distance of the route of visiting all cities in order specified.\n",
    "    Input: OrderedDict of cities (keys) with their coordinates (np.arrays of x and y)\n",
    "    Output: Total route distance (scalar)'''\n",
    "\n",
    "    city_coords = list(cities.values())\n",
    "\n",
    "    #Init variable: link last city with first\n",
    "    total_distance = get_distance(city_coords[-1], city_coords[0])\n",
    "    \n",
    "    #Connect every subsequent pair of cities\n",
    "    for i in range(len(cities) -1):\n",
    "        total_distance += get_distance(city_coords[i], city_coords[i+1])\n",
    "\n",
    "    return total_distance\n",
    "\n",
    "def visualize_routes(cities):\n",
    "    '''Visualize the cities on a plane and the routes between cities.\n",
    "    Input: OrderedDict of cities (keys) and coordinates(values).\n",
    "    Output: plot of cities and routes between them.\n",
    "    '''\n",
    "    city_coords = list(cities.values())\n",
    "    for city in city_coords:\n",
    "        plt.scatter(city[0], city[1])\n",
    "\n",
    "    #Add connecting lines \n",
    "    for i in range(len(city_coords) - 1):\n",
    "        plt.plot([city_coords[i][0], city_coords[i+1][0]], [city_coords[i][1], city_coords[i+1][1]])\n",
    "\n",
    "    #Connect last city to first\n",
    "    plt.plot([city_coords[-1][0], city_coords[0][0]], [city_coords[-1][1], city_coords[0][1]])\n",
    "    plt.show()"
   ]
  },
  {
   "cell_type": "markdown",
   "id": "026ce689",
   "metadata": {},
   "source": [
    "# Nearest Neighbour "
   ]
  },
  {
   "cell_type": "code",
   "execution_count": 3,
   "id": "035bbceb",
   "metadata": {},
   "outputs": [],
   "source": [
    "class SimulatedAnnealing:\n",
    "    def __init__(self, cities, C, T0, max_step=100, init_seed=1):\n",
    "        self.cities_old = cities\n",
    "        self.C = C\n",
    "        self.T0 = T0\n",
    "        self.max_step = max_step\n",
    "        self.init_seed = init_seed\n",
    "        self.step = 0\n",
    "\n",
    "    def nearest_neighbor_heuristic(self):\n",
    "        cities = list(self.cities_old.keys())\n",
    "        current_city = random.choice(cities)\n",
    "        solution = [current_city]\n",
    "\n",
    "        while len(solution) < len(cities):\n",
    "            distances = [(city, np.linalg.norm(np.array(self.cities_old[current_city]) - np.array(self.cities_old[city])))\n",
    "                         for city in cities if city not in solution]\n",
    "            next_city, _ = min(distances, key=lambda x: x[1])\n",
    "            solution.append(next_city)\n",
    "            current_city = next_city\n",
    "\n",
    "        return OrderedDict((city, self.cities_old[city]) for city in solution)\n",
    "\n",
    "    def proposal(self):\n",
    "        cities_list = list(self.cities_old.keys())\n",
    "        random_index = np.random.randint(0, len(cities_list) - 1)\n",
    "        proposal_cities = self.cities_old.copy()\n",
    "\n",
    "        # Swap neighboring cities\n",
    "        city_a = cities_list[random_index]\n",
    "        city_b = cities_list[random_index + 1]\n",
    "\n",
    "        proposal_cities[city_a], proposal_cities[city_b] = proposal_cities[city_b], proposal_cities[city_a]\n",
    "\n",
    "        return proposal_cities\n",
    "\n",
    "    def evaluate(self, cities, proposal_cities, T):\n",
    "        delta_distance = total_distance(proposal_cities) - total_distance(cities)\n",
    "        alpha_func = min(np.exp(-delta_distance / T), 1)\n",
    "        return alpha_func\n",
    "\n",
    "    def select(self, alpha_func, proposal_cities):\n",
    "        u = np.random.uniform()\n",
    "        if u <= alpha_func:\n",
    "            cities_new = proposal_cities\n",
    "        else:\n",
    "            cities_new = self.cities_old\n",
    "        return cities_new\n",
    "\n",
    "    def run(self):\n",
    "        # Initial heuristic solution (nearest neighbor)\n",
    "        initial_solution = self.nearest_neighbor_heuristic()\n",
    "        self.cities_old = initial_solution\n",
    "\n",
    "        while self.step < self.max_step:\n",
    "            self.init_seed += 1\n",
    "            T = (self.C * np.log(self.step + self.T0))**(-1)\n",
    "            self.step += 1\n",
    "            proposal_cities = self.proposal()\n",
    "            alpha_func = self.evaluate(self.cities_old, proposal_cities, T)\n",
    "            cities_new = self.select(alpha_func, proposal_cities)\n",
    "            self.cities_old = cities_new\n",
    "\n",
    "        return cities_new\n"
   ]
  },
  {
   "cell_type": "code",
   "execution_count": 6,
   "id": "1dbb1587",
   "metadata": {},
   "outputs": [
    {
     "name": "stderr",
     "output_type": "stream",
     "text": [
      "/var/folders/lf/9kmpp6sj6r5336sq3nv74tjw0000gn/T/ipykernel_34849/1397037315.py:39: RuntimeWarning: overflow encountered in exp\n",
      "  alpha_func = min(np.exp(-delta_distance / T), 1)\n"
     ]
    },
    {
     "data": {
      "image/png": "[encoded data removed]",
      "text/plain": [
       "<Figure size 432x288 with 1 Axes>"
      ]
     },
     "metadata": {
      "needs_background": "light"
     },
     "output_type": "display_data"
    },
    {
     "name": "stdout",
     "output_type": "stream",
     "text": [
      "Total distance of simulated annealing solution is: 3182.471200320031\n",
      "Order of the cities is as follows: odict_keys([157, 119, 120, 121, 122, 123, 124, 125, 30, 31, 32, 29, 28, 27, 26, 22, 25, 23, 24, 14, 13, 12, 11, 10, 8, 7, 9, 275, 274, 273, 272, 271, 16, 17, 18, 19, 20, 21, 128, 127, 126, 129, 130, 131, 132, 133, 134, 135, 136, 137, 138, 139, 140, 141, 142, 143, 144, 145, 146, 147, 148, 149, 150, 178, 151, 152, 156, 153, 155, 154, 177, 176, 181, 180, 179, 182, 183, 184, 185, 187, 186, 189, 188, 190, 191, 192, 194, 195, 196, 197, 198, 199, 200, 201, 202, 203, 204, 205, 206, 207, 208, 209, 210, 211, 212, 213, 214, 215, 216, 217, 218, 219, 220, 221, 222, 223, 224, 225, 226, 227, 228, 229, 230, 251, 250, 247, 244, 241, 240, 239, 238, 231, 232, 233, 234, 235, 236, 237, 246, 245, 243, 242, 2, 280, 3, 279, 278, 4, 277, 276, 6, 5, 1, 248, 249, 256, 255, 252, 253, 254, 257, 258, 259, 260, 261, 262, 263, 264, 265, 266, 267, 268, 269, 270, 15, 33, 34, 35, 36, 37, 38, 39, 40, 41, 42, 43, 60, 61, 118, 117, 115, 114, 111, 110, 108, 104, 103, 102, 101, 100, 99, 98, 93, 94, 95, 96, 97, 92, 91, 90, 89, 109, 112, 88, 83, 82, 81, 80, 79, 76, 75, 74, 73, 72, 71, 70, 67, 66, 65, 64, 63, 62, 116, 86, 85, 84, 87, 113, 107, 106, 105, 173, 174, 161, 162, 163, 164, 165, 166, 167, 168, 169, 170, 171, 172, 175, 160, 159, 158, 59, 44, 45, 46, 47, 48, 49, 50, 51, 52, 53, 54, 55, 56, 57, 58, 68, 69, 77, 78, 193])\n"
     ]
    }
   ],
   "source": [
    "#Run the simulator\n",
    "if __name__== '__main__':\n",
    "    sim_annealing = SimulatedAnnealing(cities = init_cities, C = 39, T0 = 659, max_step = 1000)\n",
    "    cities_new = sim_annealing.run()\n",
    "    visualize_routes(cities_new)\n",
    "    print(f'Total distance of simulated annealing solution is: {total_distance(cities_new)}')\n",
    "    print(f'Order of the cities is as follows: {cities_new.keys()}')"
   ]
  },
  {
   "cell_type": "code",
   "execution_count": 7,
   "id": "96e40e7d",
   "metadata": {},
   "outputs": [
    {
     "name": "stderr",
     "output_type": "stream",
     "text": [
      "[I 2023-12-11 16:40:27,932] A new study created in memory with name: no-name-4bd3883d-a7ff-491f-a7e5-330cdf5c2dfe\n"
     ]
    },
    {
     "data": {
      "application/vnd.jupyter.widget-view+json": {
       "model_id": "61ee4e09ab464397965c12be37eed615",
       "version_major": 2,
       "version_minor": 0
      },
      "text/plain": [
       "  0%|          | 0/20 [00:00<?, ?it/s]"
      ]
     },
     "metadata": {},
     "output_type": "display_data"
    },
    {
     "name": "stderr",
     "output_type": "stream",
     "text": [
      "/var/folders/lf/9kmpp6sj6r5336sq3nv74tjw0000gn/T/ipykernel_34849/1397037315.py:39: RuntimeWarning: overflow encountered in exp\n",
      "  alpha_func = min(np.exp(-delta_distance / T), 1)\n"
     ]
    },
    {
     "name": "stdout",
     "output_type": "stream",
     "text": [
      "[I 2023-12-11 16:40:28,977] Trial 0 finished with value: 3253.3417468138405 and parameters: {'C': 52, 'T0': 4369, 'max_step': 226}. Best is trial 0 with value: 3253.3417468138405.\n",
      "[I 2023-12-11 16:40:29,630] Trial 1 finished with value: 3156.8768450732528 and parameters: {'C': 5, 'T0': 1560, 'max_step': 128}. Best is trial 1 with value: 3156.8768450732528.\n",
      "[I 2023-12-11 16:40:30,903] Trial 2 finished with value: 3275.4926033847905 and parameters: {'C': 64, 'T0': 1250, 'max_step': 307}. Best is trial 1 with value: 3156.8768450732528.\n",
      "[I 2023-12-11 16:40:32,101] Trial 3 finished with value: 3226.013129940092 and parameters: {'C': 43, 'T0': 1201, 'max_step': 344}. Best is trial 1 with value: 3156.8768450732528.\n",
      "[I 2023-12-11 16:40:32,766] Trial 4 finished with value: 3223.65982538934 and parameters: {'C': 75, 'T0': 3401, 'max_step': 137}. Best is trial 1 with value: 3156.8768450732528.\n",
      "[I 2023-12-11 16:40:33,440] Trial 5 finished with value: 3149.182963943957 and parameters: {'C': 62, 'T0': 1385, 'max_step': 110}. Best is trial 5 with value: 3149.182963943957.\n",
      "[I 2023-12-11 16:40:34,426] Trial 6 finished with value: 3504.851837371729 and parameters: {'C': 21, 'T0': 1371, 'max_step': 208}. Best is trial 5 with value: 3149.182963943957.\n",
      "[I 2023-12-11 16:40:35,985] Trial 7 finished with value: 3226.914254073625 and parameters: {'C': 73, 'T0': 162, 'max_step': 492}. Best is trial 5 with value: 3149.182963943957.\n",
      "[I 2023-12-11 16:40:36,953] Trial 8 finished with value: 3257.8381103867823 and parameters: {'C': 79, 'T0': 107, 'max_step': 223}. Best is trial 5 with value: 3149.182963943957.\n",
      "[I 2023-12-11 16:40:38,490] Trial 9 finished with value: 3244.671874953937 and parameters: {'C': 36, 'T0': 2828, 'max_step': 405}. Best is trial 5 with value: 3149.182963943957.\n",
      "[I 2023-12-11 16:40:40,873] Trial 10 finished with value: 3292.6699756843855 and parameters: {'C': 95, 'T0': 2368, 'max_step': 770}. Best is trial 5 with value: 3149.182963943957.\n",
      "[I 2023-12-11 16:40:43,156] Trial 11 finished with value: 3191.039069083838 and parameters: {'C': 3, 'T0': 2000, 'max_step': 670}. Best is trial 5 with value: 3149.182963943957.\n",
      "[I 2023-12-11 16:40:46,463] Trial 12 finished with value: 3244.671874953937 and parameters: {'C': 1, 'T0': 947, 'max_step': 960}. Best is trial 5 with value: 3149.182963943957.\n",
      "[I 2023-12-11 16:40:47,264] Trial 13 finished with value: 3229.364100714148 and parameters: {'C': 24, 'T0': 2035, 'max_step': 144}. Best is trial 5 with value: 3149.182963943957.\n",
      "[I 2023-12-11 16:40:47,927] Trial 14 finished with value: 3226.1774524548687 and parameters: {'C': 62, 'T0': 3229, 'max_step': 102}. Best is trial 5 with value: 3149.182963943957.\n",
      "[I 2023-12-11 16:40:49,931] Trial 15 finished with value: 3128.4487923872657 and parameters: {'C': 22, 'T0': 749, 'max_step': 515}. Best is trial 15 with value: 3128.4487923872657.\n",
      "[I 2023-12-11 16:40:52,365] Trial 16 finished with value: 3215.1204247744377 and parameters: {'C': 28, 'T0': 590, 'max_step': 678}. Best is trial 15 with value: 3128.4487923872657.\n",
      "[I 2023-12-11 16:40:55,789] Trial 17 finished with value: 3345.212218767887 and parameters: {'C': 51, 'T0': 642, 'max_step': 990}. Best is trial 15 with value: 3128.4487923872657.\n",
      "[I 2023-12-11 16:40:57,913] Trial 18 finished with value: 3281.632633846288 and parameters: {'C': 15, 'T0': 4821, 'max_step': 535}. Best is trial 15 with value: 3128.4487923872657.\n",
      "[I 2023-12-11 16:41:00,995] Trial 19 finished with value: 3571.6191080512426 and parameters: {'C': 100, 'T0': 1848, 'max_step': 877}. Best is trial 15 with value: 3128.4487923872657.\n",
      "Best Parameters:\n",
      "C: 22\n",
      "T0: 749\n",
      "max_step: 515\n",
      "Best Objective Value: 3128.4487923872657\n"
     ]
    }
   ],
   "source": [
    "def objective_function(trial):\n",
    "    # Define the hyperparameter search space\n",
    "    C = trial.suggest_int('C', 0.1, 100)\n",
    "    T0 = trial.suggest_int('T0', 10, 5000)\n",
    "    max_step = trial.suggest_int('max_step', 100, 1000)\n",
    "\n",
    "    # Run the Simulated Annealing algorithm with the suggested hyperparameters\n",
    "    sim_annealing = SimulatedAnnealing(init_cities, C, T0, max_step)\n",
    "    cities_new = sim_annealing.run()\n",
    "    distance = total_distance(cities_new)\n",
    "\n",
    "    return distance\n",
    "\n",
    "# Create an Optuna study\n",
    "study = optuna.create_study(direction='minimize')\n",
    "\n",
    "# Optimize the study\n",
    "study.optimize(objective_function, n_trials=20, show_progress_bar=True)\n",
    "\n",
    "# Extract the best parameters\n",
    "best_params = study.best_params\n",
    "best_value = study.best_value\n",
    "\n",
    "# Print the best parameters\n",
    "print(\"Best Parameters:\")\n",
    "for key, value in best_params.items():\n",
    "    print(f\"{key}: {value}\")\n",
    "\n",
    "# Print the best objective value\n",
    "print(\"Best Objective Value:\", best_value)"
   ]
  },
  {
   "cell_type": "code",
   "execution_count": null,
   "id": "0110db77",
   "metadata": {},
   "outputs": [],
   "source": []
  }
 ],
 "metadata": {
  "kernelspec": {
   "display_name": "Python 3 (ipykernel)",
   "language": "python",
   "name": "python3"
  },
  "language_info": {
   "codemirror_mode": {
    "name": "ipython",
    "version": 3
   },
   "file_extension": ".py",
   "mimetype": "text/x-python",
   "name": "python",
   "nbconvert_exporter": "python",
   "pygments_lexer": "ipython3",
   "version": "3.9.7"
  },
  "toc": {
   "base_numbering": 1,
   "nav_menu": {},
   "number_sections": true,
   "sideBar": true,
   "skip_h1_title": false,
   "title_cell": "Table of Contents",
   "title_sidebar": "Contents",
   "toc_cell": false,
   "toc_position": {},
   "toc_section_display": true,
   "toc_window_display": false
  }
 },
 "nbformat": 4,
 "nbformat_minor": 5
}
