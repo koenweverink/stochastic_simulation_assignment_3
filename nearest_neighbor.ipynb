{
 "cells": [
  {
   "cell_type": "code",
<<<<<<< HEAD
   "execution_count": 10,
=======
   "execution_count": 1,
>>>>>>> c407d9f72b5029b9ba9d0fed12ba79f082a5f7ea
   "id": "8dee3154",
   "metadata": {},
   "outputs": [],
   "source": [
    "import numpy as np\n",
    "import matplotlib.pyplot as plt\n",
    "from collections import OrderedDict\n",
    "from scipy.stats import sem, t\n",
    "from skopt import gp_minimize\n",
    "import optuna\n",
<<<<<<< HEAD
    "import random\n",
    "import itertools\n",
    "from math import log"
=======
    "import random"
>>>>>>> c407d9f72b5029b9ba9d0fed12ba79f082a5f7ea
   ]
  },
  {
   "cell_type": "code",
<<<<<<< HEAD
   "execution_count": 27,
=======
   "execution_count": 2,
>>>>>>> c407d9f72b5029b9ba9d0fed12ba79f082a5f7ea
   "id": "c0eb55c2",
   "metadata": {},
   "outputs": [],
   "source": [
    "def get_city_coord_dict(filename):\n",
    "    '''Opens the file with cities and corresponding coordinates. Puts it in an ordered dictionary.\n",
    "    Input: file name with path.\n",
    "    Ouput: Ordered dictionary of cities with corresponding x and y coordinates in a numpy array.'''\n",
    "    city_coord_dict = {}\n",
    "\n",
    "    with open(filename, 'r') as file:\n",
    "        for line in file:\n",
    "            line = line.strip()\n",
    "            if line[0].isdigit():\n",
    "                split = line.split()\n",
    "\n",
<<<<<<< HEAD
    "                city_coord_dict[int(split[0])] = np.array([float(coord) for coord in line.split()[-2:]])\n",
=======
    "                city_coord_dict[int(split[0])] = np.array([int(coord) for coord in line.split()[-2:]])\n",
>>>>>>> c407d9f72b5029b9ba9d0fed12ba79f082a5f7ea
    "\n",
    "    return OrderedDict(city_coord_dict)\n",
    "\n",
    "#Open initial file, store cities with coordinates\n",
<<<<<<< HEAD
    "filename = \"TSP-Configurations/eil51.tsp.txt\"\n",
    "filename = \"TSP-Configurations/a280.tsp.txt\"\n",
    "filename = \"TSP-Configurations/pcb442.tsp.txt\"\n",
    "\n",
    "init_cities = get_city_coord_dict(filename)\n",
    "\n",
    "def get_distance(city_a, city_b):\n",
    "    '''\n",
    "    Input: numpy arrays or tuples of city_a and city_b coordinates.\n",
    "    Output: Euclidean distance between the two cities (as a scalar)\n",
    "    '''\n",
    "    city_a, city_b = np.array(city_a), np.array(city_b)\n",
    "    return np.linalg.norm(city_a - city_b)\n",
    "\n",
    "def total_distance(cities):\n",
    "    '''\n",
    "    Input: OrderedDict with city names as keys and coordinates as values.\n",
    "    Output: Total distance of the path that visits all cities once and returns to the starting city.\n",
    "    '''\n",
    "    city_coords = np.array(list(cities.values()))\n",
    "\n",
    "    # Init variable: link last city with the first\n",
    "    total_distance = get_distance(city_coords[-1], city_coords[0])\n",
    "\n",
    "    # Connect every subsequent pair of cities\n",
    "    for i in range(len(city_coords) - 1):\n",
    "        total_distance += get_distance(city_coords[i], city_coords[i + 1])\n",
    "\n",
    "    return total_distance\n",
    "\n",
    "\n",
=======
    "filename = \"TSP-Configurations/a280.tsp.txt\"\n",
    "init_cities = get_city_coord_dict(filename)\n",
    "\n",
    "def get_distance(city_a, city_b):\n",
    "    '''Calculates distance between city a and city b.\n",
    "    Input: numpy arrays of city_a and city_b coordinates.\n",
    "    Output: Euclidean distance between the two cities (as a scalar)'''\n",
    "    return np.linalg.norm(city_a - city_b)\n",
    "\n",
    "def total_distance(cities):\n",
    "    '''Calculates the total distance of the route of visiting all cities in order specified.\n",
    "    Input: OrderedDict of cities (keys) with their coordinates (np.arrays of x and y)\n",
    "    Output: Total route distance (scalar)'''\n",
    "\n",
    "    city_coords = list(cities.values())\n",
    "\n",
    "    #Init variable: link last city with first\n",
    "    total_distance = get_distance(city_coords[-1], city_coords[0])\n",
    "    \n",
    "    #Connect every subsequent pair of cities\n",
    "    for i in range(len(cities) -1):\n",
    "        total_distance += get_distance(city_coords[i], city_coords[i+1])\n",
    "\n",
    "    return total_distance\n",
    "\n",
>>>>>>> c407d9f72b5029b9ba9d0fed12ba79f082a5f7ea
    "def visualize_routes(cities):\n",
    "    '''Visualize the cities on a plane and the routes between cities.\n",
    "    Input: OrderedDict of cities (keys) and coordinates(values).\n",
    "    Output: plot of cities and routes between them.\n",
    "    '''\n",
    "    city_coords = list(cities.values())\n",
    "    for city in city_coords:\n",
    "        plt.scatter(city[0], city[1])\n",
    "\n",
    "    #Add connecting lines \n",
    "    for i in range(len(city_coords) - 1):\n",
    "        plt.plot([city_coords[i][0], city_coords[i+1][0]], [city_coords[i][1], city_coords[i+1][1]])\n",
    "\n",
    "    #Connect last city to first\n",
    "    plt.plot([city_coords[-1][0], city_coords[0][0]], [city_coords[-1][1], city_coords[0][1]])\n",
    "    plt.show()"
   ]
  },
  {
   "cell_type": "markdown",
   "id": "f6f38dac",
   "metadata": {},
   "source": [
    "# Nearest Neighbour "
   ]
  },
  {
   "cell_type": "code",
<<<<<<< HEAD
   "execution_count": 28,
=======
   "execution_count": 8,
>>>>>>> c407d9f72b5029b9ba9d0fed12ba79f082a5f7ea
   "id": "035bbceb",
   "metadata": {},
   "outputs": [],
   "source": [
    "class SimulatedAnnealing:\n",
<<<<<<< HEAD
    "    def __init__(self, cities, C, T0, max_step=100, init_seed=1056):\n",
=======
    "    def __init__(self, cities, C, T0, max_step=100, init_seed=1):\n",
>>>>>>> c407d9f72b5029b9ba9d0fed12ba79f082a5f7ea
    "        self.cities_old = cities\n",
    "        self.C = C\n",
    "        self.T0 = T0\n",
    "        self.max_step = max_step\n",
    "        self.init_seed = init_seed\n",
    "        self.step = 0\n",
    "\n",
    "    def nearest_neighbor_heuristic(self):\n",
    "        cities = list(self.cities_old.keys())\n",
    "        current_city = random.choice(cities)\n",
    "        solution = [current_city]\n",
    "\n",
    "        while len(solution) < len(cities):\n",
    "            distances = [(city, np.linalg.norm(np.array(self.cities_old[current_city]) - np.array(self.cities_old[city])))\n",
    "                         for city in cities if city not in solution]\n",
    "            next_city, _ = min(distances, key=lambda x: x[1])\n",
    "            solution.append(next_city)\n",
    "            current_city = next_city\n",
    "\n",
    "        return OrderedDict((city, self.cities_old[city]) for city in solution)\n",
    "\n",
    "    def proposal(self):\n",
    "        # Select a random key from the dictionary\n",
    "        random_key = np.random.choice(list(self.cities_old.keys()))\n",
    "        value = self.cities_old[random_key]\n",
    "\n",
    "        proposal_cities = self.cities_old.copy()\n",
    "        del proposal_cities[random_key]\n",
    "\n",
    "        #Move it to here     \n",
    "        new_index = np.random.randint(0, len(self.cities_old) - 1)\n",
    "\n",
    "        # Create a new dictionary with the rearranged order\n",
    "        proposal_cities = OrderedDict(list(self.cities_old.items())[:new_index] + [(random_key, value)] + list(self.cities_old.items())[new_index:])\n",
    "        return proposal_cities\n",
    "\n",
    "\n",
    "    def evaluate(self, cities, proposal_cities, T):\n",
    "        delta_distance = total_distance(proposal_cities) - total_distance(cities)\n",
    "        alpha_func = min(np.exp(-delta_distance / T), 1)\n",
    "        return alpha_func\n",
    "\n",
    "    def select(self, alpha_func, proposal_cities):\n",
    "        u = np.random.uniform()\n",
    "        if u <= alpha_func:\n",
    "            cities_new = proposal_cities\n",
    "        else:\n",
    "            cities_new = self.cities_old\n",
    "        return cities_new\n",
    "\n",
    "    def run(self):\n",
    "        # Initial heuristic solution (nearest neighbor)\n",
    "        initial_solution = self.nearest_neighbor_heuristic()\n",
    "        self.cities_old = initial_solution\n",
    "\n",
    "        while self.step < self.max_step:\n",
    "            self.init_seed += 1\n",
    "            T = (self.C * np.log(self.step + self.T0))**(-1)\n",
    "            self.step += 1\n",
    "            proposal_cities = self.proposal()\n",
    "            alpha_func = self.evaluate(self.cities_old, proposal_cities, T)\n",
    "            cities_new = self.select(alpha_func, proposal_cities)\n",
    "            self.cities_old = cities_new\n",
    "\n",
    "        return cities_new\n"
   ]
  },
  {
   "cell_type": "code",
<<<<<<< HEAD
   "execution_count": 19,
   "id": "96d96ade",
   "metadata": {},
   "outputs": [],
   "source": [
    "#Run the simulator\n",
    "if __name__== '__main__':\n",
    "    sim_annealing = SimulatedAnnealing(cities = init_cities, C = 0.8077887004677304, T0 = 50, max_step = 100)\n",
=======
   "execution_count": 15,
   "id": "96d96ade",
   "metadata": {},
   "outputs": [
    {
     "data": {
      "image/png": "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\n",
      "text/plain": [
       "<Figure size 432x288 with 1 Axes>"
      ]
     },
     "metadata": {
      "needs_background": "light"
     },
     "output_type": "display_data"
    },
    {
     "name": "stdout",
     "output_type": "stream",
     "text": [
      "Total distance of simulated annealing solution is: 3288.023210946358\n",
      "Order of the cities is as follows: odict_keys([84, 83, 82, 81, 80, 79, 76, 75, 74, 73, 72, 71, 70, 67, 66, 65, 64, 63, 62, 118, 61, 60, 43, 42, 41, 40, 39, 38, 37, 36, 35, 34, 33, 31, 30, 125, 124, 123, 122, 121, 120, 119, 157, 158, 159, 160, 175, 161, 162, 163, 164, 165, 166, 167, 168, 169, 101, 100, 99, 98, 93, 94, 95, 96, 97, 92, 91, 90, 89, 109, 108, 104, 103, 102, 170, 171, 172, 173, 106, 105, 107, 174, 110, 111, 114, 113, 87, 86, 116, 115, 117, 85, 88, 112, 77, 78, 69, 68, 58, 57, 44, 45, 46, 47, 48, 49, 50, 51, 52, 53, 54, 55, 56, 59, 126, 127, 128, 21, 20, 19, 18, 17, 133, 132, 131, 130, 129, 154, 155, 153, 156, 152, 151, 177, 176, 181, 180, 179, 178, 150, 149, 139, 138, 137, 136, 135, 134, 270, 269, 268, 267, 266, 140, 141, 142, 143, 144, 145, 146, 147, 148, 265, 264, 263, 262, 261, 260, 259, 258, 257, 254, 253, 208, 207, 210, 209, 252, 255, 256, 249, 248, 247, 244, 241, 240, 239, 238, 231, 232, 233, 234, 235, 236, 237, 246, 245, 250, 251, 230, 229, 228, 227, 226, 225, 224, 223, 222, 219, 218, 215, 214, 211, 212, 213, 216, 217, 220, 221, 203, 202, 200, 199, 198, 197, 194, 195, 196, 201, 193, 192, 191, 190, 189, 188, 187, 185, 184, 183, 182, 186, 204, 205, 206, 278, 279, 3, 280, 2, 1, 4, 277, 276, 275, 274, 273, 272, 271, 16, 15, 13, 12, 11, 10, 8, 7, 9, 6, 5, 243, 242, 14, 24, 23, 25, 22, 26, 27, 28, 29, 32])\n"
     ]
    }
   ],
   "source": [
    "#Run the simulator\n",
    "if __name__== '__main__':\n",
    "    sim_annealing = SimulatedAnnealing(cities = init_cities, C = 0.95, T0 = 1000, max_step = 1000)\n",
>>>>>>> c407d9f72b5029b9ba9d0fed12ba79f082a5f7ea
    "    cities_new = sim_annealing.run()\n",
    "    visualize_routes(cities_new)\n",
    "    print(f'Total distance of simulated annealing solution is: {total_distance(cities_new)}')\n",
    "    print(f'Order of the cities is as follows: {cities_new.keys()}')"
   ]
  },
  {
   "cell_type": "code",
<<<<<<< HEAD
   "execution_count": null,
   "id": "a1d2df03",
   "metadata": {},
   "outputs": [],
   "source": []
  },
  {
   "cell_type": "code",
   "execution_count": 34,
   "id": "640e8bad",
   "metadata": {
    "scrolled": false
   },
=======
   "execution_count": 11,
   "id": "364a7a68",
   "metadata": {},
>>>>>>> c407d9f72b5029b9ba9d0fed12ba79f082a5f7ea
   "outputs": [
    {
     "name": "stderr",
     "output_type": "stream",
     "text": [
<<<<<<< HEAD
      "[I 2023-12-14 21:31:52,821] A new study created in memory with name: eil51_tsp_optimization\n",
      "[I 2023-12-14 21:31:52,937] Trial 0 finished with value: 630.6418802819694 and parameters: {'T0': 545.0653576085851, 'C': 0.7804602807162574, 'max_step': 155}. Best is trial 0 with value: 630.6418802819694.\n",
      "[I 2023-12-14 21:31:53,527] Trial 1 finished with value: 516.7606278536034 and parameters: {'T0': 5227.119457365936, 'C': 0.43110217031499826, 'max_step': 915}. Best is trial 1 with value: 516.7606278536034.\n",
      "[I 2023-12-14 21:31:53,781] Trial 2 finished with value: 544.9729726958225 and parameters: {'T0': 2676.1383549749644, 'C': 0.12503023270763086, 'max_step': 343}. Best is trial 1 with value: 516.7606278536034.\n",
      "[I 2023-12-14 21:31:53,986] Trial 3 finished with value: 720.7794646388469 and parameters: {'T0': 1247.9290183573855, 'C': 0.013253120040138837, 'max_step': 274}. Best is trial 1 with value: 516.7606278536034.\n",
      "[I 2023-12-14 21:31:54,416] Trial 4 finished with value: 511.7215343524971 and parameters: {'T0': 4652.9125446031, 'C': 0.816629884047912, 'max_step': 679}. Best is trial 4 with value: 511.7215343524971.\n",
      "[I 2023-12-14 21:31:54,964] Trial 5 finished with value: 538.7847936650526 and parameters: {'T0': 113.47545019773976, 'C': 0.33131938019610335, 'max_step': 868}. Best is trial 4 with value: 511.7215343524971.\n",
      "[I 2023-12-14 21:31:55,252] Trial 6 finished with value: 496.3843478637582 and parameters: {'T0': 5154.034480369427, 'C': 0.9702223526416286, 'max_step': 448}. Best is trial 6 with value: 496.3843478637582.\n",
      "[I 2023-12-14 21:31:55,672] Trial 7 finished with value: 499.671397209995 and parameters: {'T0': 4822.052155836246, 'C': 0.06590838209106123, 'max_step': 676}. Best is trial 6 with value: 496.3843478637582.\n",
      "[I 2023-12-14 21:31:55,781] Trial 8 finished with value: 566.1329021200585 and parameters: {'T0': 3817.771955628539, 'C': 0.5512642428473725, 'max_step': 150}. Best is trial 6 with value: 496.3843478637582.\n",
      "[I 2023-12-14 21:31:56,281] Trial 9 finished with value: 560.8327634803632 and parameters: {'T0': 4000.559334693461, 'C': 0.7153969697518237, 'max_step': 799}. Best is trial 6 with value: 496.3843478637582.\n",
      "[I 2023-12-14 21:31:56,609] Trial 10 finished with value: 549.9687732257195 and parameters: {'T0': 7548.217874973099, 'C': 0.9966421936932855, 'max_step': 480}. Best is trial 6 with value: 496.3843478637582.\n",
      "[I 2023-12-14 21:31:56,993] Trial 11 finished with value: 539.8295287082934 and parameters: {'T0': 6610.649249226275, 'C': 0.25050322090790267, 'max_step': 591}. Best is trial 6 with value: 496.3843478637582.\n",
      "[I 2023-12-14 21:31:57,316] Trial 12 finished with value: 562.6835597324099 and parameters: {'T0': 9058.370992641529, 'C': 0.5282517669463529, 'max_step': 482}. Best is trial 6 with value: 496.3843478637582.\n",
      "[I 2023-12-14 21:31:57,756] Trial 13 finished with value: 520.9702120723176 and parameters: {'T0': 5533.3298614592095, 'C': 0.21673816957221528, 'max_step': 671}. Best is trial 6 with value: 496.3843478637582.\n",
      "[I 2023-12-14 21:31:57,799] Trial 14 finished with value: 513.610006884723 and parameters: {'T0': 6449.056657476422, 'C': 0.014356232746803949, 'max_step': 17}. Best is trial 6 with value: 496.3843478637582.\n",
      "[I 2023-12-14 21:31:58,112] Trial 15 finished with value: 521.8880567732893 and parameters: {'T0': 2725.9039903240878, 'C': 0.3955091952069917, 'max_step': 379}. Best is trial 6 with value: 496.3843478637582.\n",
      "[I 2023-12-14 21:31:58,599] Trial 16 finished with value: 575.3958648598511 and parameters: {'T0': 9821.766179814269, 'C': 0.5949738316685872, 'max_step': 744}. Best is trial 6 with value: 496.3843478637582.\n",
      "[I 2023-12-14 21:31:58,966] Trial 17 finished with value: 512.7448521031139 and parameters: {'T0': 6080.754794404085, 'C': 0.9707433048746146, 'max_step': 564}. Best is trial 6 with value: 496.3843478637582.\n",
      "[I 2023-12-14 21:31:59,283] Trial 18 finished with value: 550.1208666375132 and parameters: {'T0': 8050.282218412838, 'C': 0.6403195824250236, 'max_step': 414}. Best is trial 6 with value: 496.3843478637582.\n",
      "[I 2023-12-14 21:31:59,932] Trial 19 finished with value: 497.89097180175304 and parameters: {'T0': 4605.021307483852, 'C': 0.418674292415412, 'max_step': 995}. Best is trial 6 with value: 496.3843478637582.\n",
      "[I 2023-12-14 21:32:00,111] Trial 20 finished with value: 501.71778237685135 and parameters: {'T0': 7222.058246983888, 'C': 0.8719496397141733, 'max_step': 252}. Best is trial 6 with value: 496.3843478637582.\n",
      "[I 2023-12-14 21:32:00,742] Trial 21 finished with value: 536.5596218001745 and parameters: {'T0': 4744.787035788809, 'C': 0.4693477097008282, 'max_step': 987}. Best is trial 6 with value: 496.3843478637582.\n",
      "[I 2023-12-14 21:32:01,449] Trial 22 finished with value: 513.8908374532004 and parameters: {'T0': 5724.298832494674, 'C': 0.6696118628455204, 'max_step': 997}. Best is trial 6 with value: 496.3843478637582.\n",
      "[I 2023-12-14 21:32:01,852] Trial 23 finished with value: 520.1210469471949 and parameters: {'T0': 4029.3026114523695, 'C': 0.3575478855833792, 'max_step': 607}. Best is trial 6 with value: 496.3843478637582.\n",
      "[I 2023-12-14 21:32:02,408] Trial 24 finished with value: 542.5338555561874 and parameters: {'T0': 5048.579233829488, 'C': 0.48063264905892056, 'max_step': 809}. Best is trial 6 with value: 496.3843478637582.\n",
      "[I 2023-12-14 21:32:02,954] Trial 25 finished with value: 535.5305173584335 and parameters: {'T0': 5953.263460905606, 'C': 0.5844280889262804, 'max_step': 705}. Best is trial 6 with value: 496.3843478637582.\n",
      "[I 2023-12-14 21:32:03,356] Trial 26 finished with value: 570.0351944465281 and parameters: {'T0': 3373.1341068060824, 'C': 0.2868631651956982, 'max_step': 529}. Best is trial 6 with value: 496.3843478637582.\n",
      "[I 2023-12-14 21:32:03,944] Trial 27 finished with value: 612.3149120488183 and parameters: {'T0': 4579.031848846367, 'C': 0.18710494186984014, 'max_step': 913}. Best is trial 6 with value: 496.3843478637582.\n",
      "[I 2023-12-14 21:32:04,352] Trial 28 finished with value: 562.0328362135494 and parameters: {'T0': 5341.629873427377, 'C': 0.38187441198830685, 'max_step': 453}. Best is trial 6 with value: 496.3843478637582.\n",
      "[I 2023-12-14 21:32:04,899] Trial 29 finished with value: 552.757888047961 and parameters: {'T0': 3127.0454272707602, 'C': 0.7209668898311292, 'max_step': 781}. Best is trial 6 with value: 496.3843478637582.\n",
      "[I 2023-12-14 21:32:05,152] Trial 30 finished with value: 541.449924492918 and parameters: {'T0': 1816.9351736684284, 'C': 0.4588591952179448, 'max_step': 312}. Best is trial 6 with value: 496.3843478637582.\n",
      "[I 2023-12-14 21:32:05,375] Trial 31 finished with value: 549.0149978268255 and parameters: {'T0': 6966.870079021528, 'C': 0.8810004343815601, 'max_step': 224}. Best is trial 6 with value: 496.3843478637582.\n",
      "[I 2023-12-14 21:32:05,497] Trial 32 finished with value: 568.1684070427004 and parameters: {'T0': 7219.216236223849, 'C': 0.9089135716053458, 'max_step': 127}. Best is trial 6 with value: 496.3843478637582.\n",
      "[I 2023-12-14 21:32:05,677] Trial 33 finished with value: 514.8194490512965 and parameters: {'T0': 6133.48006533919, 'C': 0.7845222215716725, 'max_step': 244}. Best is trial 6 with value: 496.3843478637582.\n",
      "[I 2023-12-14 21:32:05,743] Trial 34 finished with value: 546.6675444590803 and parameters: {'T0': 5060.667742065153, 'C': 0.8600284862480485, 'max_step': 56}. Best is trial 6 with value: 496.3843478637582.\n",
      "[I 2023-12-14 21:32:06,012] Trial 35 finished with value: 583.1000601514495 and parameters: {'T0': 4409.08614915608, 'C': 0.9231976649080503, 'max_step': 376}. Best is trial 6 with value: 496.3843478637582.\n",
      "[I 2023-12-14 21:32:06,178] Trial 36 finished with value: 546.2999184417854 and parameters: {'T0': 5484.049482448969, 'C': 0.8338645947207562, 'max_step': 208}. Best is trial 6 with value: 496.3843478637582.\n",
      "[I 2023-12-14 21:32:06,659] Trial 37 finished with value: 538.5042955715435 and parameters: {'T0': 4292.575343100784, 'C': 0.7910473687940665, 'max_step': 640}. Best is trial 6 with value: 496.3843478637582.\n",
      "[I 2023-12-14 21:32:07,248] Trial 38 finished with value: 542.8024209958577 and parameters: {'T0': 3627.0848719348937, 'C': 0.3028332066728452, 'max_step': 864}. Best is trial 6 with value: 496.3843478637582.\n"
=======
      "[I 2023-12-11 16:45:29,258] A new study created in memory with name: no-name-22ccddcc-65d6-470d-8a8d-769d8d9ec06e\n"
     ]
    },
    {
     "data": {
      "application/vnd.jupyter.widget-view+json": {
       "model_id": "6b8c914f1b7a44b5913deeb24a85c4ae",
       "version_major": 2,
       "version_minor": 0
      },
      "text/plain": [
       "  0%|          | 0/20 [00:00<?, ?it/s]"
      ]
     },
     "metadata": {},
     "output_type": "display_data"
    },
    {
     "name": "stdout",
     "output_type": "stream",
     "text": [
      "[I 2023-12-11 16:45:30,449] Trial 0 finished with value: 3521.999708817391 and parameters: {'C': 543, 'T0': 1762, 'max_step': 282}. Best is trial 0 with value: 3521.999708817391.\n"
>>>>>>> c407d9f72b5029b9ba9d0fed12ba79f082a5f7ea
     ]
    },
    {
     "name": "stderr",
     "output_type": "stream",
     "text": [
<<<<<<< HEAD
      "[I 2023-12-14 21:32:07,604] Trial 39 finished with value: 540.1834889874249 and parameters: {'T0': 4982.597416220258, 'C': 0.41757640429851584, 'max_step': 530}. Best is trial 6 with value: 496.3843478637582.\n",
      "[I 2023-12-14 21:32:07,841] Trial 40 finished with value: 525.4853611273811 and parameters: {'T0': 6479.195474111684, 'C': 0.12787620414805914, 'max_step': 336}. Best is trial 6 with value: 496.3843478637582.\n",
      "[I 2023-12-14 21:32:08,357] Trial 41 finished with value: 532.073553315055 and parameters: {'T0': 4493.67755018424, 'C': 0.9487858095652519, 'max_step': 737}. Best is trial 6 with value: 496.3843478637582.\n",
      "[I 2023-12-14 21:32:08,650] Trial 42 finished with value: 525.3594812450763 and parameters: {'T0': 3926.740370256377, 'C': 0.9985233447293246, 'max_step': 433}. Best is trial 6 with value: 496.3843478637582.\n",
      "[I 2023-12-14 21:32:09,260] Trial 43 finished with value: 519.7089961083499 and parameters: {'T0': 5438.3729877576525, 'C': 0.8457909984125983, 'max_step': 854}. Best is trial 6 with value: 496.3843478637582.\n",
      "[I 2023-12-14 21:32:09,787] Trial 44 finished with value: 550.2238815033428 and parameters: {'T0': 4799.155295636104, 'C': 0.9476794293324203, 'max_step': 668}. Best is trial 6 with value: 496.3843478637582.\n",
      "[I 2023-12-14 21:32:10,449] Trial 45 finished with value: 558.981098454871 and parameters: {'T0': 4182.648918079661, 'C': 0.888610250200464, 'max_step': 938}. Best is trial 6 with value: 496.3843478637582.\n",
      "[I 2023-12-14 21:32:10,667] Trial 46 finished with value: 525.8306972403354 and parameters: {'T0': 3588.8716106511524, 'C': 0.5349656575527016, 'max_step': 292}. Best is trial 6 with value: 496.3843478637582.\n",
      "[I 2023-12-14 21:32:11,068] Trial 47 finished with value: 532.2007374848346 and parameters: {'T0': 5868.83483799961, 'C': 0.7360611390748615, 'max_step': 560}. Best is trial 6 with value: 496.3843478637582.\n",
      "[I 2023-12-14 21:32:11,489] Trial 48 finished with value: 533.5397666031014 and parameters: {'T0': 5279.497333938982, 'C': 0.813970128241067, 'max_step': 630}. Best is trial 6 with value: 496.3843478637582.\n",
      "[I 2023-12-14 21:32:11,843] Trial 49 finished with value: 490.94869291087855 and parameters: {'T0': 7894.682162905283, 'C': 0.8974853576167918, 'max_step': 493}. Best is trial 49 with value: 490.94869291087855.\n",
      "[I 2023-12-14 21:32:11,844] A new study created in memory with name: a280_tsp_optimization\n"
=======
      "/var/folders/lf/9kmpp6sj6r5336sq3nv74tjw0000gn/T/ipykernel_34849/3851093954.py:55: RuntimeWarning: overflow encountered in exp\n",
      "  alpha_func = min(np.exp(-delta_distance / T), 1)\n"
>>>>>>> c407d9f72b5029b9ba9d0fed12ba79f082a5f7ea
     ]
    },
    {
     "name": "stdout",
     "output_type": "stream",
     "text": [
<<<<<<< HEAD
      "Best trial for eil51_tsp_optimization:\n",
      "  Value: 490.95\n",
      "  Params: \n",
      "    T0: 7894.682162905283\n",
      "    C: 0.8974853576167918\n",
      "    max_step: 493\n"
     ]
    },
    {
     "name": "stderr",
     "output_type": "stream",
     "text": [
      "[I 2023-12-14 21:32:13,438] Trial 0 finished with value: 3488.0351793848663 and parameters: {'T0': 7710.452260043245, 'C': 0.23993239418493595, 'max_step': 343}. Best is trial 0 with value: 3488.0351793848663.\n",
      "[I 2023-12-14 21:32:16,593] Trial 1 finished with value: 3181.586506884611 and parameters: {'T0': 5345.997694248345, 'C': 0.8504269787754118, 'max_step': 797}. Best is trial 1 with value: 3181.586506884611.\n",
      "[I 2023-12-14 21:32:19,199] Trial 2 finished with value: 3331.1073848356004 and parameters: {'T0': 8340.78802329789, 'C': 0.529278188647089, 'max_step': 696}. Best is trial 1 with value: 3181.586506884611.\n",
      "[I 2023-12-14 21:32:20,777] Trial 3 finished with value: 3436.804159608838 and parameters: {'T0': 1493.2196881017667, 'C': 0.20163771148359513, 'max_step': 397}. Best is trial 1 with value: 3181.586506884611.\n",
      "[I 2023-12-14 21:32:21,602] Trial 4 finished with value: 3205.778964197487 and parameters: {'T0': 6207.747587551339, 'C': 0.14241636789473988, 'max_step': 165}. Best is trial 1 with value: 3181.586506884611.\n",
      "[I 2023-12-14 21:32:24,814] Trial 5 finished with value: 3160.784045756778 and parameters: {'T0': 9188.546881133045, 'C': 0.5445246497354718, 'max_step': 897}. Best is trial 5 with value: 3160.784045756778.\n",
      "[I 2023-12-14 21:32:25,586] Trial 6 finished with value: 3265.091008364196 and parameters: {'T0': 7885.4162594923655, 'C': 0.5546793314136902, 'max_step': 140}. Best is trial 5 with value: 3160.784045756778.\n",
      "[I 2023-12-14 21:32:26,132] Trial 7 finished with value: 3205.778964197487 and parameters: {'T0': 2804.8151427345447, 'C': 0.015768339061455888, 'max_step': 61}. Best is trial 5 with value: 3160.784045756778.\n",
      "[I 2023-12-14 21:32:27,422] Trial 8 finished with value: 3214.4634396871734 and parameters: {'T0': 4291.968703805758, 'C': 0.07160374021642193, 'max_step': 268}. Best is trial 5 with value: 3160.784045756778.\n",
      "[I 2023-12-14 21:32:29,859] Trial 9 finished with value: 3127.6856250885585 and parameters: {'T0': 2692.1184970345994, 'C': 0.9840945524831238, 'max_step': 660}. Best is trial 9 with value: 3127.6856250885585.\n",
      "[I 2023-12-14 21:32:32,310] Trial 10 finished with value: 3251.766952393008 and parameters: {'T0': 462.23115927982144, 'C': 0.9853979766733821, 'max_step': 591}. Best is trial 9 with value: 3127.6856250885585.\n",
      "[I 2023-12-14 21:32:35,742] Trial 11 finished with value: 3162.3984202000097 and parameters: {'T0': 9148.992969328503, 'C': 0.7285911930082226, 'max_step': 920}. Best is trial 9 with value: 3127.6856250885585.\n",
      "[I 2023-12-14 21:32:39,226] Trial 12 finished with value: 3485.321119043757 and parameters: {'T0': 3539.136926135978, 'C': 0.734650068987594, 'max_step': 985}. Best is trial 9 with value: 3127.6856250885585.\n",
      "[I 2023-12-14 21:32:42,034] Trial 13 finished with value: 3168.9307705177753 and parameters: {'T0': 9644.963208634046, 'C': 0.3744581269417907, 'max_step': 778}. Best is trial 9 with value: 3127.6856250885585.\n",
      "[I 2023-12-14 21:32:44,203] Trial 14 finished with value: 3257.4330849108246 and parameters: {'T0': 6351.5301531781715, 'C': 0.4088221286565106, 'max_step': 566}. Best is trial 9 with value: 3127.6856250885585.\n",
      "[I 2023-12-14 21:32:47,454] Trial 15 finished with value: 3224.3162172010957 and parameters: {'T0': 2685.576963270808, 'C': 0.6458490572020548, 'max_step': 808}. Best is trial 9 with value: 3127.6856250885585.\n",
      "[I 2023-12-14 21:32:50,441] Trial 16 finished with value: 3351.8679812712576 and parameters: {'T0': 5222.216417756692, 'C': 0.9298996435299002, 'max_step': 643}. Best is trial 9 with value: 3127.6856250885585.\n",
      "[I 2023-12-14 21:32:54,203] Trial 17 finished with value: 3312.5891609853606 and parameters: {'T0': 9572.418484928961, 'C': 0.8321196921658192, 'max_step': 888}. Best is trial 9 with value: 3127.6856250885585.\n",
      "[I 2023-12-14 21:32:56,771] Trial 18 finished with value: 3262.3451688608284 and parameters: {'T0': 6859.179341525075, 'C': 0.6371263435479253, 'max_step': 488}. Best is trial 9 with value: 3127.6856250885585.\n",
      "/var/folders/lf/9kmpp6sj6r5336sq3nv74tjw0000gn/T/ipykernel_74124/1117491539.py:42: RuntimeWarning: overflow encountered in exp\n",
      "  alpha_func = min(np.exp(-delta_distance / T), 1)\n",
      "[I 2023-12-14 21:32:58,856] Trial 19 finished with value: 3049.4570702619276 and parameters: {'T0': 4371.8793675683855, 'C': 0.9855031390846619, 'max_step': 469}. Best is trial 19 with value: 3049.4570702619276.\n",
      "[I 2023-12-14 21:33:01,730] Trial 20 finished with value: 3069.644671983467 and parameters: {'T0': 3987.693831847174, 'C': 0.9806581851557009, 'max_step': 468}. Best is trial 19 with value: 3049.4570702619276.\n",
      "[I 2023-12-14 21:33:04,027] Trial 21 finished with value: 3174.893979632478 and parameters: {'T0': 4053.2780082488575, 'C': 0.9846157043973329, 'max_step': 462}. Best is trial 19 with value: 3049.4570702619276.\n",
      "[I 2023-12-14 21:33:07,367] Trial 22 finished with value: 3131.842020326018 and parameters: {'T0': 2851.7635139484523, 'C': 0.8804917238977849, 'max_step': 376}. Best is trial 19 with value: 3049.4570702619276.\n",
      "[I 2023-12-14 21:33:10,792] Trial 23 finished with value: 3525.5178948551775 and parameters: {'T0': 4148.030260714915, 'C': 0.9989021963735933, 'max_step': 540}. Best is trial 19 with value: 3049.4570702619276.\n",
      "[I 2023-12-14 21:33:14,788] Trial 24 finished with value: 3299.693219592729 and parameters: {'T0': 1813.8169727770337, 'C': 0.9098859261926164, 'max_step': 687}. Best is trial 19 with value: 3049.4570702619276.\n",
      "[I 2023-12-14 21:33:17,054] Trial 25 finished with value: 3507.7843342323436 and parameters: {'T0': 4823.012654022616, 'C': 0.8099463655894158, 'max_step': 300}. Best is trial 19 with value: 3049.4570702619276.\n",
      "[I 2023-12-14 21:33:19,963] Trial 26 finished with value: 3276.6322364593375 and parameters: {'T0': 3458.311793022606, 'C': 0.9035644760931493, 'max_step': 454}. Best is trial 19 with value: 3049.4570702619276.\n",
      "[I 2023-12-14 21:33:26,138] Trial 27 finished with value: 3199.7439201486504 and parameters: {'T0': 4759.884873770192, 'C': 0.7700046675653927, 'max_step': 607}. Best is trial 19 with value: 3049.4570702619276.\n",
      "[I 2023-12-14 21:33:29,306] Trial 28 finished with value: 3222.9419219137953 and parameters: {'T0': 5467.756591418892, 'C': 0.9368346747523582, 'max_step': 255}. Best is trial 19 with value: 3049.4570702619276.\n",
      "[I 2023-12-14 21:33:33,828] Trial 29 finished with value: 3297.687051458327 and parameters: {'T0': 3404.9530767069355, 'C': 0.8547291005951239, 'max_step': 404}. Best is trial 19 with value: 3049.4570702619276.\n",
      "[I 2023-12-14 21:33:38,750] Trial 30 finished with value: 3171.5647586583505 and parameters: {'T0': 2092.007531173637, 'C': 0.7857755167851249, 'max_step': 510}. Best is trial 19 with value: 3049.4570702619276.\n",
      "[I 2023-12-14 21:33:41,969] Trial 31 finished with value: 3177.506070991219 and parameters: {'T0': 2973.6348323813936, 'C': 0.8932200093162909, 'max_step': 369}. Best is trial 19 with value: 3049.4570702619276.\n",
      "[I 2023-12-14 21:33:44,895] Trial 32 finished with value: 3094.278434464387 and parameters: {'T0': 3926.028153854817, 'C': 0.9970350784630475, 'max_step': 332}. Best is trial 19 with value: 3049.4570702619276.\n",
      "[I 2023-12-14 21:33:51,573] Trial 33 finished with value: 3334.855010498829 and parameters: {'T0': 4032.9088000769334, 'C': 0.9950990254234847, 'max_step': 733}. Best is trial 19 with value: 3049.4570702619276.\n",
      "[I 2023-12-14 21:33:54,796] Trial 34 finished with value: 3278.939506536953 and parameters: {'T0': 4722.059139919052, 'C': 0.9386898761919541, 'max_step': 327}. Best is trial 19 with value: 3049.4570702619276.\n",
      "[I 2023-12-14 21:33:57,225] Trial 35 finished with value: 3454.2575573711824 and parameters: {'T0': 2272.508927176559, 'C': 0.8427181310718541, 'max_step': 201}. Best is trial 19 with value: 3049.4570702619276.\n",
      "[I 2023-12-14 21:34:00,942] Trial 36 finished with value: 3510.6737494330937 and parameters: {'T0': 1218.7028150255105, 'C': 0.9490947753782376, 'max_step': 428}. Best is trial 19 with value: 3049.4570702619276.\n",
      "[I 2023-12-14 21:34:07,449] Trial 37 finished with value: 3540.3376396487647 and parameters: {'T0': 5416.4606309095525, 'C': 0.8601309641690437, 'max_step': 682}. Best is trial 19 with value: 3049.4570702619276.\n",
      "[I 2023-12-14 21:34:13,947] Trial 38 finished with value: 3351.8679812712576 and parameters: {'T0': 3519.2177907882574, 'C': 0.9998813862157215, 'max_step': 528}. Best is trial 19 with value: 3049.4570702619276.\n"
     ]
    },
    {
     "name": "stderr",
     "output_type": "stream",
     "text": [
      "[I 2023-12-14 21:34:15,248] Trial 39 finished with value: 3273.3310797877343 and parameters: {'T0': 2436.2495206342132, 'C': 0.8848764337737579, 'max_step': 19}. Best is trial 19 with value: 3049.4570702619276.\n",
      "[I 2023-12-14 21:34:17,862] Trial 40 finished with value: 3307.964337418607 and parameters: {'T0': 4419.747749790088, 'C': 0.9564323736915232, 'max_step': 226}. Best is trial 19 with value: 3049.4570702619276.\n",
      "[I 2023-12-14 21:34:21,502] Trial 41 finished with value: 3326.8680658389594 and parameters: {'T0': 3235.2872882822444, 'C': 0.9046552826961015, 'max_step': 367}. Best is trial 19 with value: 3049.4570702619276.\n",
      "[I 2023-12-14 21:34:24,453] Trial 42 finished with value: 3596.791245006306 and parameters: {'T0': 2628.8086388346046, 'C': 0.9444697854144015, 'max_step': 317}. Best is trial 19 with value: 3049.4570702619276.\n",
      "[I 2023-12-14 21:34:28,377] Trial 43 finished with value: 3527.1215551646173 and parameters: {'T0': 3833.279959051437, 'C': 0.8803065756006356, 'max_step': 417}. Best is trial 19 with value: 3049.4570702619276.\n",
      "[I 2023-12-14 21:34:29,962] Trial 44 finished with value: 3514.7066976320457 and parameters: {'T0': 3825.489765339418, 'C': 0.8212057462333751, 'max_step': 116}. Best is trial 19 with value: 3049.4570702619276.\n",
      "[I 2023-12-14 21:34:34,978] Trial 45 finished with value: 3240.0644687510126 and parameters: {'T0': 2770.7152535122887, 'C': 0.9440522709026313, 'max_step': 612}. Best is trial 19 with value: 3049.4570702619276.\n",
      "[I 2023-12-14 21:34:38,707] Trial 46 finished with value: 3360.3567782828068 and parameters: {'T0': 3015.862753334144, 'C': 0.9988287849188161, 'max_step': 477}. Best is trial 19 with value: 3049.4570702619276.\n",
      "[I 2023-12-14 21:34:41,590] Trial 47 finished with value: 3209.981577499379 and parameters: {'T0': 3123.4843900658343, 'C': 0.8769195325800815, 'max_step': 359}. Best is trial 19 with value: 3049.4570702619276.\n",
      "[I 2023-12-14 21:34:43,927] Trial 48 finished with value: 3228.982870732873 and parameters: {'T0': 1885.2478196560405, 'C': 0.9487152031403763, 'max_step': 276}. Best is trial 19 with value: 3049.4570702619276.\n",
      "[I 2023-12-14 21:34:48,073] Trial 49 finished with value: 3296.901066938599 and parameters: {'T0': 3660.5248500902553, 'C': 0.8477078420595073, 'max_step': 575}. Best is trial 19 with value: 3049.4570702619276.\n",
      "[I 2023-12-14 21:34:48,075] A new study created in memory with name: pcb442_tsp_optimization\n"
     ]
    },
    {
     "name": "stdout",
     "output_type": "stream",
     "text": [
      "Best trial for a280_tsp_optimization:\n",
      "  Value: 3049.46\n",
      "  Params: \n",
      "    T0: 4371.8793675683855\n",
      "    C: 0.9855031390846619\n",
      "    max_step: 469\n"
     ]
    },
    {
     "name": "stderr",
     "output_type": "stream",
     "text": [
      "[I 2023-12-14 21:34:55,533] Trial 0 finished with value: 62161.05304201338 and parameters: {'T0': 2225.3842464444115, 'C': 0.24859757311954112, 'max_step': 587}. Best is trial 0 with value: 62161.05304201338.\n",
      "[I 2023-12-14 21:35:01,004] Trial 1 finished with value: 62182.00580927058 and parameters: {'T0': 8825.673042805533, 'C': 0.15628002817521405, 'max_step': 759}. Best is trial 0 with value: 62161.05304201338.\n",
      "[I 2023-12-14 21:35:05,797] Trial 2 finished with value: 63860.73441270661 and parameters: {'T0': 9384.460043068108, 'C': 0.3116267251236504, 'max_step': 573}. Best is trial 0 with value: 62161.05304201338.\n",
      "[I 2023-12-14 21:35:08,655] Trial 3 finished with value: 63404.60005991797 and parameters: {'T0': 730.8909508024057, 'C': 0.1155411346238107, 'max_step': 324}. Best is trial 0 with value: 62161.05304201338.\n",
      "[I 2023-12-14 21:35:14,548] Trial 4 finished with value: 60837.04953500077 and parameters: {'T0': 198.86949216657692, 'C': 0.5918763796444297, 'max_step': 815}. Best is trial 4 with value: 60837.04953500077.\n",
      "[I 2023-12-14 21:35:19,858] Trial 5 finished with value: 62028.2640474181 and parameters: {'T0': 5908.463765265787, 'C': 0.4988908872757702, 'max_step': 778}. Best is trial 4 with value: 60837.04953500077.\n",
      "[I 2023-12-14 21:35:25,637] Trial 6 finished with value: 61186.28640133144 and parameters: {'T0': 7794.11062457016, 'C': 0.30903544837375463, 'max_step': 903}. Best is trial 4 with value: 60837.04953500077.\n",
      "[I 2023-12-14 21:35:27,303] Trial 7 finished with value: 61746.26593879253 and parameters: {'T0': 4188.795980009022, 'C': 0.8799819932797575, 'max_step': 120}. Best is trial 4 with value: 60837.04953500077.\n",
      "[I 2023-12-14 21:35:28,728] Trial 8 finished with value: 65933.65739193598 and parameters: {'T0': 3959.9995811621548, 'C': 0.41304336386679974, 'max_step': 74}. Best is trial 4 with value: 60837.04953500077.\n",
      "[I 2023-12-14 21:35:35,254] Trial 9 finished with value: 61989.38604241278 and parameters: {'T0': 7720.4583854587145, 'C': 0.16428514732977073, 'max_step': 942}. Best is trial 4 with value: 60837.04953500077.\n",
      "[I 2023-12-14 21:35:38,537] Trial 10 finished with value: 61995.7942534326 and parameters: {'T0': 702.9453352884733, 'C': 0.6789438691913356, 'max_step': 410}. Best is trial 4 with value: 60837.04953500077.\n",
      "[I 2023-12-14 21:35:45,056] Trial 11 finished with value: 62408.958523660825 and parameters: {'T0': 6481.000336037423, 'C': 0.5976452101598009, 'max_step': 992}. Best is trial 4 with value: 60837.04953500077.\n",
      "[I 2023-12-14 21:35:50,844] Trial 12 finished with value: 62499.88631457237 and parameters: {'T0': 7356.06255656372, 'C': 0.36842020585878643, 'max_step': 776}. Best is trial 4 with value: 60837.04953500077.\n",
      "[I 2023-12-14 21:35:57,085] Trial 13 finished with value: 64223.57287072243 and parameters: {'T0': 2645.7029467178827, 'C': 0.677912346106322, 'max_step': 872}. Best is trial 4 with value: 60837.04953500077.\n",
      "[I 2023-12-14 21:36:01,708] Trial 14 finished with value: 60152.31793125993 and parameters: {'T0': 5285.104463847029, 'C': 0.019230608099315982, 'max_step': 669}. Best is trial 14 with value: 60152.31793125993.\n",
      "[I 2023-12-14 21:36:06,060] Trial 15 finished with value: 62157.779055773004 and parameters: {'T0': 4949.353658345642, 'C': 0.02078642924734119, 'max_step': 643}. Best is trial 14 with value: 60152.31793125993.\n",
      "[I 2023-12-14 21:36:09,675] Trial 16 finished with value: 62156.23605496073 and parameters: {'T0': 19.063411521912712, 'C': 0.49563144550936833, 'max_step': 429}. Best is trial 14 with value: 60152.31793125993.\n",
      "[I 2023-12-14 21:36:14,181] Trial 17 finished with value: 62418.825709184785 and parameters: {'T0': 2799.0105186702785, 'C': 0.055034080294646424, 'max_step': 690}. Best is trial 14 with value: 60152.31793125993.\n",
      "[I 2023-12-14 21:36:17,560] Trial 18 finished with value: 63113.663318438375 and parameters: {'T0': 5240.010864448408, 'C': 0.21553681390750842, 'max_step': 239}. Best is trial 14 with value: 60152.31793125993.\n",
      "[I 2023-12-14 21:36:25,940] Trial 19 finished with value: 60774.42063299486 and parameters: {'T0': 3659.9296815622165, 'C': 0.0138860886129434, 'max_step': 495}. Best is trial 14 with value: 60152.31793125993.\n",
      "[I 2023-12-14 21:36:34,592] Trial 20 finished with value: 60448.58372032146 and parameters: {'T0': 4156.976791892255, 'C': 0.013697622060243383, 'max_step': 523}. Best is trial 14 with value: 60152.31793125993.\n",
      "[I 2023-12-14 21:36:41,837] Trial 21 finished with value: 59141.24487713975 and parameters: {'T0': 3915.2633066647077, 'C': 0.017156029726929506, 'max_step': 482}. Best is trial 21 with value: 59141.24487713975.\n",
      "[I 2023-12-14 21:36:50,923] Trial 22 finished with value: 62508.95273303465 and parameters: {'T0': 4979.27586768416, 'C': 0.09783052076765855, 'max_step': 509}. Best is trial 21 with value: 59141.24487713975.\n",
      "[I 2023-12-14 21:36:54,035] Trial 23 finished with value: 60175.97081119297 and parameters: {'T0': 6173.120349897173, 'C': 0.07693197949677252, 'max_step': 326}. Best is trial 21 with value: 59141.24487713975.\n",
      "[I 2023-12-14 21:36:56,193] Trial 24 finished with value: 60936.02905740498 and parameters: {'T0': 6100.713733631421, 'C': 0.11879995295906315, 'max_step': 224}. Best is trial 21 with value: 59141.24487713975.\n",
      "[I 2023-12-14 21:37:00,682] Trial 25 finished with value: 60144.98808730693 and parameters: {'T0': 6679.034989483307, 'C': 0.1988686800508791, 'max_step': 354}. Best is trial 21 with value: 59141.24487713975.\n",
      "[I 2023-12-14 21:37:04,285] Trial 26 finished with value: 62470.93159276787 and parameters: {'T0': 6961.548647241373, 'C': 0.1945875638245119, 'max_step': 387}. Best is trial 21 with value: 59141.24487713975.\n",
      "[I 2023-12-14 21:37:09,183] Trial 27 finished with value: 63064.15833521869 and parameters: {'T0': 5583.15735031038, 'C': 0.24504777245722015, 'max_step': 683}. Best is trial 21 with value: 59141.24487713975.\n",
      "[I 2023-12-14 21:37:11,316] Trial 28 finished with value: 62076.06127526866 and parameters: {'T0': 6689.155353031078, 'C': 0.12562905205776087, 'max_step': 204}. Best is trial 21 with value: 59141.24487713975.\n",
      "[I 2023-12-14 21:37:15,737] Trial 29 finished with value: 62171.29256076991 and parameters: {'T0': 4839.65210496848, 'C': 0.20290740833352414, 'max_step': 593}. Best is trial 21 with value: 59141.24487713975.\n",
      "[I 2023-12-14 21:37:19,397] Trial 30 finished with value: 64485.30675480352 and parameters: {'T0': 5576.426654053635, 'C': 0.07149942415567417, 'max_step': 329}. Best is trial 21 with value: 59141.24487713975.\n",
      "[I 2023-12-14 21:37:22,871] Trial 31 finished with value: 62307.65405466381 and parameters: {'T0': 6247.396987801034, 'C': 0.06798280749482234, 'max_step': 343}. Best is trial 21 with value: 59141.24487713975.\n",
      "[I 2023-12-14 21:37:26,398] Trial 32 finished with value: 61851.24090930094 and parameters: {'T0': 8156.509598450629, 'C': 0.15405213088659162, 'max_step': 462}. Best is trial 21 with value: 59141.24487713975.\n",
      "[I 2023-12-14 21:37:30,411] Trial 33 finished with value: 62102.57848298919 and parameters: {'T0': 6931.887077861653, 'C': 0.08709949556029802, 'max_step': 583}. Best is trial 21 with value: 59141.24487713975.\n",
      "[I 2023-12-14 21:37:33,005] Trial 34 finished with value: 62241.259666264916 and parameters: {'T0': 6111.508970604229, 'C': 0.16238758396107328, 'max_step': 269}. Best is trial 21 with value: 59141.24487713975.\n",
      "[I 2023-12-14 21:37:35,098] Trial 35 finished with value: 62153.978949285905 and parameters: {'T0': 8406.650152130971, 'C': 0.25271987944467333, 'max_step': 150}. Best is trial 21 with value: 59141.24487713975.\n",
      "[I 2023-12-14 21:37:38,046] Trial 36 finished with value: 61598.05026692498 and parameters: {'T0': 9706.584596934928, 'C': 0.06982343471316524, 'max_step': 288}. Best is trial 21 with value: 59141.24487713975.\n",
      "[I 2023-12-14 21:37:41,258] Trial 37 finished with value: 61881.08413001102 and parameters: {'T0': 7233.148222795189, 'C': 0.12979521927914278, 'max_step': 358}. Best is trial 21 with value: 59141.24487713975.\n",
      "[I 2023-12-14 21:37:45,991] Trial 38 finished with value: 61955.85613005661 and parameters: {'T0': 8993.333825559515, 'C': 0.013760737210737837, 'max_step': 542}. Best is trial 21 with value: 59141.24487713975.\n",
      "[I 2023-12-14 21:37:49,523] Trial 39 finished with value: 61155.839785803655 and parameters: {'T0': 5705.344825072769, 'C': 0.2772257730051425, 'max_step': 453}. Best is trial 21 with value: 59141.24487713975.\n"
     ]
    },
    {
     "name": "stderr",
     "output_type": "stream",
     "text": [
      "[I 2023-12-14 21:37:54,334] Trial 40 finished with value: 61571.446386871816 and parameters: {'T0': 6538.539828433996, 'C': 0.18327057491252427, 'max_step': 636}. Best is trial 21 with value: 59141.24487713975.\n",
      "[I 2023-12-14 21:37:58,485] Trial 41 finished with value: 65137.181040228956 and parameters: {'T0': 4390.46677453226, 'C': 0.02997913355029017, 'max_step': 528}. Best is trial 21 with value: 59141.24487713975.\n",
      "[I 2023-12-14 21:38:02,021] Trial 42 finished with value: 62451.32565842702 and parameters: {'T0': 4545.233678567463, 'C': 0.10515069632845121, 'max_step': 392}. Best is trial 21 with value: 59141.24487713975.\n",
      "[I 2023-12-14 21:38:07,089] Trial 43 finished with value: 62363.78284619073 and parameters: {'T0': 3707.6362034010626, 'C': 0.051579586851408635, 'max_step': 720}. Best is trial 21 with value: 59141.24487713975.\n",
      "[I 2023-12-14 21:38:10,881] Trial 44 finished with value: 61429.18336077727 and parameters: {'T0': 5296.432541410732, 'C': 0.13398972383094584, 'max_step': 467}. Best is trial 21 with value: 59141.24487713975.\n",
      "[I 2023-12-14 21:38:15,765] Trial 45 finished with value: 62119.92885089842 and parameters: {'T0': 4493.918505423626, 'C': 0.05498035947561938, 'max_step': 615}. Best is trial 21 with value: 59141.24487713975.\n",
      "[I 2023-12-14 21:38:17,195] Trial 46 finished with value: 61882.347524155986 and parameters: {'T0': 3336.0008040061593, 'C': 0.010612028520514627, 'max_step': 38}. Best is trial 21 with value: 59141.24487713975.\n",
      "[I 2023-12-14 21:38:21,371] Trial 47 finished with value: 62468.865912280424 and parameters: {'T0': 3924.7221949488967, 'C': 0.0939070656962563, 'max_step': 552}. Best is trial 21 with value: 59141.24487713975.\n",
      "[I 2023-12-14 21:38:23,869] Trial 48 finished with value: 61738.919462181046 and parameters: {'T0': 5908.101946297451, 'C': 0.15842024585456094, 'max_step': 295}. Best is trial 21 with value: 59141.24487713975.\n",
      "[I 2023-12-14 21:38:29,336] Trial 49 finished with value: 63725.35688450995 and parameters: {'T0': 1712.1562901992033, 'C': 0.332287321526886, 'max_step': 839}. Best is trial 21 with value: 59141.24487713975.\n"
     ]
    },
    {
     "name": "stdout",
     "output_type": "stream",
     "text": [
      "Best trial for pcb442_tsp_optimization:\n",
      "  Value: 59141.24\n",
      "  Params: \n",
      "    T0: 3915.2633066647077\n",
      "    C: 0.017156029726929506\n",
      "    max_step: 482\n"
=======
      "[I 2023-12-11 16:45:34,868] Trial 1 finished with value: 3191.3903055406345 and parameters: {'C': 780, 'T0': 2402, 'max_step': 1493}. Best is trial 1 with value: 3191.3903055406345.\n",
      "[I 2023-12-11 16:45:35,879] Trial 2 finished with value: 3098.3682865341866 and parameters: {'C': 435, 'T0': 1827, 'max_step': 217}. Best is trial 2 with value: 3098.3682865341866.\n",
      "[I 2023-12-11 16:45:39,509] Trial 3 finished with value: 3524.782805590287 and parameters: {'C': 842, 'T0': 1652, 'max_step': 1122}. Best is trial 2 with value: 3098.3682865341866.\n",
      "[I 2023-12-11 16:45:42,043] Trial 4 finished with value: 3210.7266709017103 and parameters: {'C': 406, 'T0': 3362, 'max_step': 810}. Best is trial 2 with value: 3098.3682865341866.\n",
      "[I 2023-12-11 16:45:43,016] Trial 5 finished with value: 3103.1339359133826 and parameters: {'C': 407, 'T0': 104, 'max_step': 227}. Best is trial 2 with value: 3098.3682865341866.\n",
      "[I 2023-12-11 16:45:44,600] Trial 6 finished with value: 3247.713916994131 and parameters: {'C': 576, 'T0': 691, 'max_step': 441}. Best is trial 2 with value: 3098.3682865341866.\n",
      "[I 2023-12-11 16:45:51,055] Trial 7 finished with value: 3388.6418100810756 and parameters: {'C': 629, 'T0': 1271, 'max_step': 2203}. Best is trial 2 with value: 3098.3682865341866.\n",
      "[I 2023-12-11 16:45:53,520] Trial 8 finished with value: 3336.191458963127 and parameters: {'C': 966, 'T0': 4693, 'max_step': 800}. Best is trial 2 with value: 3098.3682865341866.\n",
      "[I 2023-12-11 16:45:56,791] Trial 9 finished with value: 3148.047469627652 and parameters: {'C': 130, 'T0': 49, 'max_step': 949}. Best is trial 2 with value: 3098.3682865341866.\n",
      "[I 2023-12-11 16:46:02,096] Trial 10 finished with value: 3283.9495120535535 and parameters: {'C': 131, 'T0': 3387, 'max_step': 1569}. Best is trial 2 with value: 3098.3682865341866.\n",
      "[I 2023-12-11 16:46:03,187] Trial 11 finished with value: 3131.510412748484 and parameters: {'C': 352, 'T0': 153, 'max_step': 178}. Best is trial 2 with value: 3098.3682865341866.\n",
      "[I 2023-12-11 16:46:05,294] Trial 12 finished with value: 3516.8909677841666 and parameters: {'C': 304, 'T0': 2862, 'max_step': 559}. Best is trial 2 with value: 3098.3682865341866.\n",
      "[I 2023-12-11 16:46:06,128] Trial 13 finished with value: 3527.5217020829505 and parameters: {'C': 254, 'T0': 866, 'max_step': 151}. Best is trial 2 with value: 3098.3682865341866.\n",
      "[I 2023-12-11 16:46:11,830] Trial 14 finished with value: 3254.8268566703596 and parameters: {'C': 16, 'T0': 2105, 'max_step': 1995}. Best is trial 2 with value: 3098.3682865341866.\n",
      "[I 2023-12-11 16:46:13,781] Trial 15 finished with value: 3289.9896793369435 and parameters: {'C': 452, 'T0': 4771, 'max_step': 615}. Best is trial 2 with value: 3098.3682865341866.\n",
      "[I 2023-12-11 16:46:17,797] Trial 16 finished with value: 3185.978960290805 and parameters: {'C': 708, 'T0': 3961, 'max_step': 1301}. Best is trial 2 with value: 3098.3682865341866.\n",
      "[I 2023-12-11 16:46:23,338] Trial 17 finished with value: 3297.1537237132707 and parameters: {'C': 482, 'T0': 873, 'max_step': 1809}. Best is trial 2 with value: 3098.3682865341866.\n",
      "[I 2023-12-11 16:46:30,826] Trial 18 finished with value: 3097.2288352648 and parameters: {'C': 227, 'T0': 2823, 'max_step': 2432}. Best is trial 18 with value: 3097.2288352648.\n",
      "[I 2023-12-11 16:46:38,514] Trial 19 finished with value: 3206.134058698206 and parameters: {'C': 218, 'T0': 2776, 'max_step': 2475}. Best is trial 18 with value: 3097.2288352648.\n",
      "Best Parameters:\n",
      "C: 227\n",
      "T0: 2823\n",
      "max_step: 2432\n",
      "Best Objective Value: 3097.2288352648\n"
>>>>>>> c407d9f72b5029b9ba9d0fed12ba79f082a5f7ea
     ]
    }
   ],
   "source": [
<<<<<<< HEAD
    "# Load the TSP instances\n",
    "eil51 = get_city_coord_dict(\"TSP-Configurations/eil51.tsp.txt\")\n",
    "a280 = get_city_coord_dict(\"TSP-Configurations/a280.tsp.txt\")\n",
    "pcb442 = get_city_coord_dict(\"TSP-Configurations/pcb442.tsp.txt\")\n",
    "\n",
    "# Define a function to run hyperparameter optimization for a given TSP instance\n",
    "def optimize_tsp_instance(instance, study_name):\n",
    "    # Define the objective function\n",
    "    def objective(trial):\n",
    "        # Define the hyperparameter search space\n",
    "        T0 = trial.suggest_float('T0', 1, 10000)\n",
    "        C = trial.suggest_float('C', 0.01, 1.0)\n",
    "        max_step = trial.suggest_int('max_step', 10, 1000)\n",
    "\n",
    "        # Create and run the SimulatedAnnealing instance with the chosen hyperparameters\n",
    "        sa = SimulatedAnnealing(instance, C, T0, max_step)\n",
    "        optimized_cities = sa.run()\n",
    "\n",
    "        # Calculate the objective value (in this case, the total distance)\n",
    "        min_distance = total_distance(optimized_cities)\n",
    "\n",
    "        return min_distance\n",
    "\n",
    "    # Create an Optuna study\n",
    "    study = optuna.create_study(direction='minimize', study_name=study_name)\n",
    "\n",
    "    # Optimize the hyperparameters\n",
    "    study.optimize(objective, n_trials=50)  # You can increase the number of trials for better results\n",
    "\n",
    "    # Print the best hyperparameters and objective value\n",
    "    print(f\"Best trial for {study_name}:\")\n",
    "    best_trial = study.best_trial\n",
    "    print(\"  Value: {:.2f}\".format(best_trial.value))\n",
    "    print(\"  Params: \")\n",
    "    for key, value in best_trial.params.items():\n",
    "        print(\"    {}: {}\".format(key, value))\n",
    "\n",
    "# Run hyperparameter optimization for each TSP instance\n",
    "optimize_tsp_instance(eil51, \"eil51_tsp_optimization\")\n",
    "optimize_tsp_instance(a280, \"a280_tsp_optimization\")\n",
    "optimize_tsp_instance(pcb442, \"pcb442_tsp_optimization\")"
=======
    "def objective_function(trial):\n",
    "    # Define the hyperparameter search space\n",
    "    C = trial.suggest_int('C', 0.1, 1000)\n",
    "    T0 = trial.suggest_int('T0', 10, 5000)\n",
    "    max_step = trial.suggest_int('max_step', 100, 2500)\n",
    "\n",
    "    # Run the Simulated Annealing algorithm with the suggested hyperparameters\n",
    "    sim_annealing = SimulatedAnnealing(init_cities, C, T0, max_step)\n",
    "    cities_new = sim_annealing.run()\n",
    "    distance = total_distance(cities_new)\n",
    "\n",
    "    return distance\n",
    "\n",
    "# Create an Optuna study\n",
    "study = optuna.create_study(direction='minimize')\n",
    "\n",
    "# Optimize the study\n",
    "study.optimize(objective_function, n_trials=20, show_progress_bar=True)\n",
    "\n",
    "# Extract the best parameters\n",
    "best_params = study.best_params\n",
    "best_value = study.best_value\n",
    "\n",
    "# Print the best parameters\n",
    "print(\"Best Parameters:\")\n",
    "for key, value in best_params.items():\n",
    "    print(f\"{key}: {value}\")\n",
    "\n",
    "# Print the best objective value\n",
    "print(\"Best Objective Value:\", best_value)"
>>>>>>> c407d9f72b5029b9ba9d0fed12ba79f082a5f7ea
   ]
  },
  {
   "cell_type": "code",
   "execution_count": null,
<<<<<<< HEAD
   "id": "a3e37a22",
=======
   "id": "434687d8",
>>>>>>> c407d9f72b5029b9ba9d0fed12ba79f082a5f7ea
   "metadata": {},
   "outputs": [],
   "source": []
  }
 ],
 "metadata": {
  "kernelspec": {
   "display_name": "Python 3 (ipykernel)",
   "language": "python",
   "name": "python3"
  },
  "language_info": {
   "codemirror_mode": {
    "name": "ipython",
    "version": 3
   },
   "file_extension": ".py",
   "mimetype": "text/x-python",
   "name": "python",
   "nbconvert_exporter": "python",
   "pygments_lexer": "ipython3",
   "version": "3.9.7"
  },
  "toc": {
   "base_numbering": 1,
   "nav_menu": {},
   "number_sections": true,
   "sideBar": true,
   "skip_h1_title": false,
   "title_cell": "Table of Contents",
   "title_sidebar": "Contents",
   "toc_cell": false,
   "toc_position": {},
   "toc_section_display": true,
   "toc_window_display": false
  }
 },
 "nbformat": 4,
 "nbformat_minor": 5
}
