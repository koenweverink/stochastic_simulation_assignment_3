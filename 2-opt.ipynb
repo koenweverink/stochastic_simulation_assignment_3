{
 "cells": [
  {
   "cell_type": "code",
   "execution_count": 13,
   "metadata": {},
   "outputs": [],
   "source": [
    "import numpy as np\n",
    "import matplotlib.pyplot as plt\n",
    "from collections import OrderedDict\n",
    "import itertools"
   ]
  },
  {
   "cell_type": "code",
   "execution_count": 14,
   "metadata": {},
   "outputs": [],
   "source": [
    "def get_city_coord_dict(filename):\n",
    "    '''Opens the file with cities and corresponding coordinates. Puts it in an ordered dictionary.\n",
    "    Input: file name with path.\n",
    "    Ouput: Ordered dictionary of cities with corresponding x and y coordinates in a numpy array.'''\n",
    "    city_coord_dict = {}\n",
    "\n",
    "    with open(filename, 'r') as file:\n",
    "        for line in file:\n",
    "            line = line.strip()\n",
    "            if line[0].isdigit():\n",
    "                split = line.split()\n",
    "\n",
    "                city_coord_dict[int(split[0])] = np.array([int(coord) for coord in line.split()[-2:]])\n",
    "\n",
    "    return OrderedDict(city_coord_dict)\n",
    "\n",
    "#Open initial file, store cities with coordinates\n",
    "filename = \"TSP-Configurations/a280.tsp.txt\"\n",
    "init_cities = get_city_coord_dict(filename)\n",
    "\n",
    "def get_distance(city_a, city_b):\n",
    "    '''Calculates distance between city a and city b.\n",
    "    Input: numpy arrays of city_a and city_b coordinates.\n",
    "    Output: Euclidean distance between the two cities (as a scalar)'''\n",
    "    return np.linalg.norm(city_a - city_b)\n",
    "\n",
    "def calculate_total_distance(tour, city_coords):\n",
    "    total_distance = 0\n",
    "    for i in range(len(tour) - 1):\n",
    "        total_distance += get_distance(city_coords[tour[i]], city_coords[tour[i + 1]])\n",
    "    total_distance += get_distance(city_coords[tour[-1]], city_coords[tour[0]])  # Return to the starting city\n",
    "    return total_distance\n",
    "\n",
    "def visualize_routes(cities):\n",
    "    '''Visualize the cities on a plane and the routes between cities.\n",
    "    Input: OrderedDict of cities (keys) and coordinates(values).\n",
    "    Output: plot of cities and routes between them.\n",
    "    '''\n",
    "    city_coords = list(cities.values())\n",
    "    for city in city_coords:\n",
    "        plt.scatter(city[0], city[1])\n",
    "\n",
    "    #Add connecting lines \n",
    "    for i in range(len(city_coords) - 1):\n",
    "        plt.plot([city_coords[i][0], city_coords[i+1][0]], [city_coords[i][1], city_coords[i+1][1]])\n",
    "\n",
    "    #Connect last city to first\n",
    "    plt.plot([city_coords[-1][0], city_coords[0][0]], [city_coords[-1][1], city_coords[0][1]])\n",
    "    plt.show()\n"
   ]
  },
  {
   "cell_type": "code",
   "execution_count": 15,
   "metadata": {},
   "outputs": [],
   "source": [
    "def two_opt(tour, city_coords):\n",
    "    n = len(tour)\n",
    "    improved = True\n",
    "\n",
    "    while improved:\n",
    "        improved = False\n",
    "        for i, j in itertools.combinations(range(1, n - 1), 2):\n",
    "            if i == 1 and j == n - 1:\n",
    "                continue  # Skip the case where i is the first city and j is the last city\n",
    "\n",
    "            new_tour = tour[:i] + tour[i:j + 1][::-1] + tour[j + 1:]\n",
    "\n",
    "            old_distance = calculate_total_distance(tour, city_coords)\n",
    "            new_distance = calculate_total_distance(new_tour, city_coords)\n",
    "\n",
    "            if new_distance < old_distance:\n",
    "                tour = new_tour\n",
    "                improved = True\n",
    "\n",
    "    return tour"
   ]
  },
  {
   "cell_type": "code",
   "execution_count": 16,
   "metadata": {},
   "outputs": [],
   "source": [
    "def run_multiple_2opt(initial_tour, city_coords, num_iterations):\n",
    "    best_tour = initial_tour\n",
    "    best_distance = calculate_total_distance(initial_tour, city_coords)\n",
    "\n",
    "    for _ in range(num_iterations):\n",
    "        current_tour = initial_tour.copy()\n",
    "        np.random.shuffle(current_tour)\n",
    "        current_tour = two_opt(current_tour, city_coords)\n",
    "        current_distance = calculate_total_distance(current_tour, city_coords)\n",
    "\n",
    "        if current_distance < best_distance:\n",
    "            best_tour = current_tour\n",
    "            best_distance = current_distance\n",
    "\n",
    "    return best_tour, best_distance"
   ]
  },
  {
   "cell_type": "code",
   "execution_count": 17,
   "metadata": {},
   "outputs": [
    {
     "name": "stdout",
     "output_type": "stream",
     "text": [
      "Best Tour: [0, 1, 2, 3, 4, 5, 6, 7, 8, 9, 10, 11, 12, 13, 14, 15, 16, 17, 18, 19, 20, 21, 22, 23, 24, 25, 26, 27, 28, 29, 30, 31, 32, 33, 34, 35, 36, 37, 38, 39, 40, 41, 42, 43, 44, 45, 46, 47, 48, 49, 50, 51, 52, 53, 54, 55, 56, 57, 58, 59, 60, 61, 62, 63, 64, 65, 66, 67, 68, 69, 70, 71, 72, 73, 74, 75, 76, 77, 78, 79, 80, 81, 82, 83, 84, 85, 86, 87, 88, 89, 90, 91, 92, 93, 94, 95, 96, 97, 98, 99, 100, 101, 102, 103, 104, 105, 106, 107, 108, 109, 110, 111, 112, 113, 114, 115, 116, 117, 118, 119, 120, 121, 122, 123, 124, 125, 126, 127, 128, 129, 130, 131, 132, 133, 134, 135, 136, 137, 138, 139, 140, 141, 142, 143, 144, 145, 146, 147, 148, 149, 150, 151, 152, 153, 154, 155, 156, 157, 158, 159, 160, 161, 162, 163, 164, 165, 166, 167, 168, 169, 170, 171, 172, 173, 174, 175, 176, 177, 178, 179, 180, 181, 182, 183, 184, 185, 186, 187, 188, 189, 190, 191, 192, 193, 194, 195, 196, 197, 198, 199, 200, 201, 202, 203, 204, 205, 206, 207, 208, 209, 210, 211, 212, 213, 214, 215, 216, 217, 218, 219, 220, 221, 222, 223, 224, 225, 226, 227, 228, 229, 230, 231, 232, 233, 234, 235, 236, 237, 238, 239, 240, 241, 242, 243, 244, 245, 246, 247, 248, 249, 250, 251, 252, 253, 254, 255, 256, 257, 258, 259, 260, 261, 262, 263, 264, 265, 266, 267, 268, 269, 270, 271, 272, 273, 274, 275, 276, 277, 278, 279]\n",
      "Best Distance: 2818.621642239474\n"
     ]
    }
   ],
   "source": [
    "if __name__ == \"__main__\":\n",
    "    filename = \"TSP-Configurations/a280.tsp.txt\"\n",
    "    cities = get_city_coord_dict(filename)\n",
    "    city_coords = list(cities.values())\n",
    "\n",
    "    initial_tour = list(range(len(city_coords)))\n",
    "\n",
    "    num_iterations = 2\n",
    "    best_tour, best_distance = run_multiple_2opt(initial_tour, city_coords, num_iterations)\n",
    "\n",
    "    print(\"Best Tour:\", best_tour)\n",
    "    print(\"Best Distance:\", best_distance)"
   ]
  },
  {
   "cell_type": "code",
   "execution_count": null,
   "metadata": {},
   "outputs": [],
   "source": []
  }
 ],
 "metadata": {
  "kernelspec": {
   "display_name": "Python 3",
   "language": "python",
   "name": "python3"
  },
  "language_info": {
   "codemirror_mode": {
    "name": "ipython",
    "version": 3
   },
   "file_extension": ".py",
   "mimetype": "text/x-python",
   "name": "python",
   "nbconvert_exporter": "python",
   "pygments_lexer": "ipython3",
   "version": "3.10.6"
  }
 },
 "nbformat": 4,
 "nbformat_minor": 2
}
